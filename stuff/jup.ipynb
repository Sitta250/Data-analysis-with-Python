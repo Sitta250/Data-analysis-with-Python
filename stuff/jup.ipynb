{
 "cells": [
  {
   "cell_type": "code",
   "execution_count": 5,
   "metadata": {},
   "outputs": [],
   "source": [
    "name_dict = {\n",
    "  'Luke': 3,\n",
    "  'Kelly': 4,\n",
    "  'Ken': 6,\n",
    "  'Alex': 3,\n",
    "  'Nino': 7,\n",
    "}\n",
    "years_list = list(name_dict.items())"
   ]
  },
  {
   "cell_type": "code",
   "execution_count": 13,
   "metadata": {},
   "outputs": [
    {
     "name": "stdout",
     "output_type": "stream",
     "text": [
      "Ken has 6 years of exp\n"
     ]
    }
   ],
   "source": [
    "year = 0\n",
    "index = 0\n",
    "while year < 5:\n",
    "  key, year = years_list[index]\n",
    "  if year >= 5:\n",
    "    print(key, 'has', year, 'years of exp')\n",
    "  index+=1"
   ]
  },
  {
   "cell_type": "code",
   "execution_count": 14,
   "metadata": {},
   "outputs": [],
   "source": [
    "numbers = [x for x in range(51)]"
   ]
  },
  {
   "cell_type": "code",
   "execution_count": 15,
   "metadata": {},
   "outputs": [
    {
     "data": {
      "text/plain": [
       "[0,\n",
       " 1,\n",
       " 2,\n",
       " 3,\n",
       " 4,\n",
       " 5,\n",
       " 6,\n",
       " 7,\n",
       " 8,\n",
       " 9,\n",
       " 10,\n",
       " 11,\n",
       " 12,\n",
       " 13,\n",
       " 14,\n",
       " 15,\n",
       " 16,\n",
       " 17,\n",
       " 18,\n",
       " 19,\n",
       " 20,\n",
       " 21,\n",
       " 22,\n",
       " 23,\n",
       " 24,\n",
       " 25,\n",
       " 26,\n",
       " 27,\n",
       " 28,\n",
       " 29,\n",
       " 30,\n",
       " 31,\n",
       " 32,\n",
       " 33,\n",
       " 34,\n",
       " 35,\n",
       " 36,\n",
       " 37,\n",
       " 38,\n",
       " 39,\n",
       " 40,\n",
       " 41,\n",
       " 42,\n",
       " 43,\n",
       " 44,\n",
       " 45,\n",
       " 46,\n",
       " 47,\n",
       " 48,\n",
       " 49,\n",
       " 50]"
      ]
     },
     "execution_count": 15,
     "metadata": {},
     "output_type": "execute_result"
    }
   ],
   "source": [
    "numbers"
   ]
  },
  {
   "cell_type": "code",
   "execution_count": 16,
   "metadata": {},
   "outputs": [],
   "source": [
    "numbers = []\n",
    "for number in range(100):\n",
    "  numbers.append(number)"
   ]
  },
  {
   "cell_type": "code",
   "execution_count": 17,
   "metadata": {},
   "outputs": [
    {
     "data": {
      "text/plain": [
       "[0,\n",
       " 1,\n",
       " 2,\n",
       " 3,\n",
       " 4,\n",
       " 5,\n",
       " 6,\n",
       " 7,\n",
       " 8,\n",
       " 9,\n",
       " 10,\n",
       " 11,\n",
       " 12,\n",
       " 13,\n",
       " 14,\n",
       " 15,\n",
       " 16,\n",
       " 17,\n",
       " 18,\n",
       " 19,\n",
       " 20,\n",
       " 21,\n",
       " 22,\n",
       " 23,\n",
       " 24,\n",
       " 25,\n",
       " 26,\n",
       " 27,\n",
       " 28,\n",
       " 29,\n",
       " 30,\n",
       " 31,\n",
       " 32,\n",
       " 33,\n",
       " 34,\n",
       " 35,\n",
       " 36,\n",
       " 37,\n",
       " 38,\n",
       " 39,\n",
       " 40,\n",
       " 41,\n",
       " 42,\n",
       " 43,\n",
       " 44,\n",
       " 45,\n",
       " 46,\n",
       " 47,\n",
       " 48,\n",
       " 49,\n",
       " 50,\n",
       " 51,\n",
       " 52,\n",
       " 53,\n",
       " 54,\n",
       " 55,\n",
       " 56,\n",
       " 57,\n",
       " 58,\n",
       " 59,\n",
       " 60,\n",
       " 61,\n",
       " 62,\n",
       " 63,\n",
       " 64,\n",
       " 65,\n",
       " 66,\n",
       " 67,\n",
       " 68,\n",
       " 69,\n",
       " 70,\n",
       " 71,\n",
       " 72,\n",
       " 73,\n",
       " 74,\n",
       " 75,\n",
       " 76,\n",
       " 77,\n",
       " 78,\n",
       " 79,\n",
       " 80,\n",
       " 81,\n",
       " 82,\n",
       " 83,\n",
       " 84,\n",
       " 85,\n",
       " 86,\n",
       " 87,\n",
       " 88,\n",
       " 89,\n",
       " 90,\n",
       " 91,\n",
       " 92,\n",
       " 93,\n",
       " 94,\n",
       " 95,\n",
       " 96,\n",
       " 97,\n",
       " 98,\n",
       " 99]"
      ]
     },
     "execution_count": 17,
     "metadata": {},
     "output_type": "execute_result"
    }
   ],
   "source": [
    "numbers"
   ]
  },
  {
   "cell_type": "code",
   "execution_count": 21,
   "metadata": {},
   "outputs": [
    {
     "data": {
      "text/plain": [
       "[0.0,\n",
       " 2.0,\n",
       " 4.0,\n",
       " 6.0,\n",
       " 8.0,\n",
       " 10.0,\n",
       " 12.0,\n",
       " 14.0,\n",
       " 16.0,\n",
       " 18.0,\n",
       " 20.0,\n",
       " 22.0,\n",
       " 24.0,\n",
       " 26.0,\n",
       " 28.0,\n",
       " 30.0,\n",
       " 32.0,\n",
       " 34.0,\n",
       " 36.0,\n",
       " 38.0,\n",
       " 40.0,\n",
       " 42.0,\n",
       " 44.0,\n",
       " 46.0,\n",
       " 48.0,\n",
       " 50.0,\n",
       " 52.0,\n",
       " 54.0,\n",
       " 56.0,\n",
       " 58.0,\n",
       " 60.0,\n",
       " 62.0,\n",
       " 64.0,\n",
       " 66.0,\n",
       " 68.0,\n",
       " 70.0,\n",
       " 72.0,\n",
       " 74.0,\n",
       " 76.0,\n",
       " 78.0,\n",
       " 80.0,\n",
       " 82.0,\n",
       " 84.0,\n",
       " 86.0,\n",
       " 88.0,\n",
       " 90.0,\n",
       " 92.0,\n",
       " 94.0,\n",
       " 96.0,\n",
       " 98.0,\n",
       " 100.0,\n",
       " 102.0,\n",
       " 104.0,\n",
       " 106.0,\n",
       " 108.0,\n",
       " 110.0,\n",
       " 112.0,\n",
       " 114.0,\n",
       " 116.0,\n",
       " 118.0,\n",
       " 120.0,\n",
       " 122.0,\n",
       " 124.0,\n",
       " 126.0,\n",
       " 128.0,\n",
       " 130.0,\n",
       " 132.0,\n",
       " 134.0,\n",
       " 136.0,\n",
       " 138.0,\n",
       " 140.0,\n",
       " 142.0,\n",
       " 144.0,\n",
       " 146.0,\n",
       " 148.0,\n",
       " 150.0,\n",
       " 152.0,\n",
       " 154.0,\n",
       " 156.0,\n",
       " 158.0,\n",
       " 160.0,\n",
       " 162.0,\n",
       " 164.0,\n",
       " 166.0,\n",
       " 168.0,\n",
       " 170.0,\n",
       " 172.0,\n",
       " 174.0,\n",
       " 176.0,\n",
       " 178.0,\n",
       " 180.0,\n",
       " 182.0,\n",
       " 184.0,\n",
       " 186.0,\n",
       " 188.0,\n",
       " 190.0,\n",
       " 192.0,\n",
       " 194.0,\n",
       " 196.0,\n",
       " 198.0]"
      ]
     },
     "execution_count": 21,
     "metadata": {},
     "output_type": "execute_result"
    }
   ],
   "source": [
    "numbers = [float(x*2) for x in range(100)]\n",
    "numbers"
   ]
  },
  {
   "cell_type": "code",
   "execution_count": 22,
   "metadata": {},
   "outputs": [
    {
     "data": {
      "text/plain": [
       "['P', 'Y', 'T', 'H', 'O', 'N']"
      ]
     },
     "execution_count": 22,
     "metadata": {},
     "output_type": "execute_result"
    }
   ],
   "source": [
    "numbers = [x for x in 'PYTHON']\n",
    "numbers"
   ]
  },
  {
   "cell_type": "code",
   "execution_count": 23,
   "metadata": {},
   "outputs": [
    {
     "data": {
      "text/plain": [
       "{'H', 'N', 'O', 'P', 'T', 'Y'}"
      ]
     },
     "execution_count": 23,
     "metadata": {},
     "output_type": "execute_result"
    }
   ],
   "source": [
    "numbers = {x for x in 'PYTHON'}\n",
    "numbers"
   ]
  },
  {
   "cell_type": "code",
   "execution_count": 26,
   "metadata": {},
   "outputs": [
    {
     "name": "stdout",
     "output_type": "stream",
     "text": [
      "172\n"
     ]
    }
   ],
   "source": [
    "def sum_even_numbers(nums):\n",
    "  result = sum(x for x in nums if x%2==0)\n",
    "  return result\n",
    "\n",
    "numbers = [10, 21, 34, 45, 50, 67, 78]\n",
    "print(sum_even_numbers(numbers))  # Expected Output: 172"
   ]
  },
  {
   "cell_type": "code",
   "execution_count": 31,
   "metadata": {},
   "outputs": [
    {
     "name": "stdout",
     "output_type": "stream",
     "text": [
      "[5, 4, 3, 2, 1]\n"
     ]
    }
   ],
   "source": [
    "def reverse_list(lst):\n",
    "    lst.reverse()\n",
    "    return lst\n",
    "\n",
    "nums = [1, 2, 3, 4, 5]\n",
    "print(reverse_list(nums))  # Expected Output: [5, 4, 3, 2, 1]"
   ]
  },
  {
   "cell_type": "code",
   "execution_count": 36,
   "metadata": {},
   "outputs": [
    {
     "name": "stdout",
     "output_type": "stream",
     "text": [
      "4\n"
     ]
    }
   ],
   "source": [
    "def count_occurrences(lst, element):\n",
    "    count = 0\n",
    "    for x in range(len(lst)):\n",
    "      if lst[x] == element:\n",
    "        count+=1\n",
    "    return count\n",
    "\n",
    "numbers = [4, 2, 8, 4, 6, 4, 9, 4, 3]\n",
    "print(count_occurrences(numbers, 4))  # Expected Output: 4"
   ]
  },
  {
   "cell_type": "code",
   "execution_count": 37,
   "metadata": {},
   "outputs": [
    {
     "name": "stdout",
     "output_type": "stream",
     "text": [
      "82\n"
     ]
    }
   ],
   "source": [
    "def max_in_tuple(tpl):\n",
    "    maxNum = max(tpl)\n",
    "    return maxNum\n",
    "\n",
    "values = (10, 25, 36, 49, 82, 55)\n",
    "print(max_in_tuple(values))  # Expected Output: 82"
   ]
  },
  {
   "cell_type": "code",
   "execution_count": 40,
   "metadata": {},
   "outputs": [
    {
     "name": "stdout",
     "output_type": "stream",
     "text": [
      "(4, 9, 99, 18, 25)\n"
     ]
    }
   ],
   "source": [
    "def modify_tuple(tpl, new_value):\n",
    "    lst = list(tpl)\n",
    "    lst[2] = new_value\n",
    "    return tuple(lst)\n",
    "\n",
    "data = (4, 9, 12, 18, 25)\n",
    "print(modify_tuple(data, 99))  # Expected Output: (4, 9, 99, 18, 25)"
   ]
  },
  {
   "cell_type": "code",
   "execution_count": 41,
   "metadata": {},
   "outputs": [
    {
     "name": "stdout",
     "output_type": "stream",
     "text": [
      "{1, 2, 3, 5, 8, 9}\n"
     ]
    }
   ],
   "source": [
    "def remove_duplicates(lst):\n",
    "    final = set(lst)\n",
    "    return final\n",
    "\n",
    "nums = [5, 2, 8, 2, 5, 9, 8, 3, 1]\n",
    "print(remove_duplicates(nums))  # Expected Output: {1, 2, 3, 5, 8, 9}"
   ]
  },
  {
   "cell_type": "code",
   "execution_count": 44,
   "metadata": {},
   "outputs": [
    {
     "name": "stdout",
     "output_type": "stream",
     "text": [
      "{4, 5}\n"
     ]
    }
   ],
   "source": [
    "def common_elements(set1, set2):\n",
    "    set3 = set()\n",
    "    for x in set1:\n",
    "        if x in set2:\n",
    "            set3.add(x)\n",
    "    return set3\n",
    "\n",
    "a = {1, 2, 3, 4, 5}\n",
    "b = {4, 5, 6, 7, 8}\n",
    "print(common_elements(a, b))  # Expected Output: {4, 5}"
   ]
  },
  {
   "cell_type": "code",
   "execution_count": 2,
   "metadata": {},
   "outputs": [
    {
     "name": "stdout",
     "output_type": "stream",
     "text": [
      "{'apple': 3, 'banana': 2, 'orange': 1}\n"
     ]
    }
   ],
   "source": [
    "def word_count(sentence):\n",
    "  sentence = sentence.lower()\n",
    "  words = sentence.split()\n",
    "  word_count = {}\n",
    "  for word in words:\n",
    "    if word in word_count:\n",
    "      word_count[word] += 1\n",
    "    else:\n",
    "      word_count[word] = 1\n",
    "  return word_count\n",
    "\n",
    "text = \"apple banana apple orange banana apple\"\n",
    "print(word_count(text))  \n",
    "# Expected Output: {'apple': 3, 'banana': 2, 'orange': 1}"
   ]
  },
  {
   "cell_type": "code",
   "execution_count": 7,
   "metadata": {},
   "outputs": [
    {
     "name": "stdout",
     "output_type": "stream",
     "text": [
      "{'p': 1, 'r': 2, 'o': 1, 'g': 2, 'a': 1, 'm': 2, 'i': 1, 'n': 1}\n"
     ]
    }
   ],
   "source": [
    "import string\n",
    "def char_count(input_text):\n",
    "  input_text = input_text.lower()\n",
    "  count = {}\n",
    "  for char in input_text:\n",
    "    if char.isalpha():\n",
    "      if char in count:\n",
    "        count[char] += 1\n",
    "      else:  \n",
    "        count[char] = 1\n",
    "  return count\n",
    "text = \"progr343am/.ming\"\n",
    "print(char_count(text))"
   ]
  },
  {
   "cell_type": "code",
   "execution_count": 10,
   "metadata": {},
   "outputs": [
    {
     "name": "stdout",
     "output_type": "stream",
     "text": [
      "5.0\n"
     ]
    }
   ],
   "source": [
    "import math\n",
    "def find_missing(input):\n",
    "  return (input[len(input) -1]*(input[len(input) -1]+1))/2 - sum(input)\n",
    "numbers = [1,2,3,4,6,7,8,9,10]\n",
    "print(find_missing(numbers))"
   ]
  },
  {
   "cell_type": "code",
   "execution_count": 17,
   "metadata": {},
   "outputs": [
    {
     "name": "stdout",
     "output_type": "stream",
     "text": [
      "6.0\n"
     ]
    }
   ],
   "source": [
    "import math\n",
    "def find_missing(input):\n",
    "  return (input[0]+input[len(input)-1])*((len(input)+1)/2) - sum(input)\n",
    "numbers = [3,4,5,7] \n",
    "print(find_missing(numbers))\n"
   ]
  },
  {
   "cell_type": "code",
   "execution_count": 21,
   "metadata": {},
   "outputs": [
    {
     "data": {
      "text/plain": [
       "[0, 1, 2, 3, 4, 5, 6, 7, 8, 9, 10, 11, 12, 13, 14, 15, 16, 17, 18, 19]"
      ]
     },
     "execution_count": 21,
     "metadata": {},
     "output_type": "execute_result"
    }
   ],
   "source": [
    "numbers = [x for x in range(20)]\n",
    "numbers"
   ]
  },
  {
   "cell_type": "code",
   "execution_count": 25,
   "metadata": {},
   "outputs": [
    {
     "data": {
      "text/plain": [
       "[0,\n",
       " 2,\n",
       " 4,\n",
       " 6,\n",
       " 8,\n",
       " 10,\n",
       " 12,\n",
       " 14,\n",
       " 16,\n",
       " 18,\n",
       " 20,\n",
       " 22,\n",
       " 24,\n",
       " 26,\n",
       " 28,\n",
       " 30,\n",
       " 32,\n",
       " 34,\n",
       " 36,\n",
       " 38,\n",
       " 40,\n",
       " 42,\n",
       " 44,\n",
       " 46,\n",
       " 48,\n",
       " 50,\n",
       " 52,\n",
       " 54,\n",
       " 56,\n",
       " 58]"
      ]
     },
     "execution_count": 25,
     "metadata": {},
     "output_type": "execute_result"
    }
   ],
   "source": [
    "numbers = []\n",
    "numbers = [x*2 for x in range(30)]\n",
    "numbers "
   ]
  },
  {
   "cell_type": "code",
   "execution_count": 27,
   "metadata": {},
   "outputs": [
    {
     "data": {
      "text/plain": [
       "[0.0,\n",
       " 1.0,\n",
       " 2.0,\n",
       " 3.0,\n",
       " 4.0,\n",
       " 5.0,\n",
       " 6.0,\n",
       " 7.0,\n",
       " 8.0,\n",
       " 9.0,\n",
       " 10.0,\n",
       " 11.0,\n",
       " 12.0,\n",
       " 13.0,\n",
       " 14.0,\n",
       " 15.0,\n",
       " 16.0,\n",
       " 17.0,\n",
       " 18.0,\n",
       " 19.0,\n",
       " 20.0,\n",
       " 21.0,\n",
       " 22.0,\n",
       " 23.0,\n",
       " 24.0,\n",
       " 25.0,\n",
       " 26.0,\n",
       " 27.0,\n",
       " 28.0,\n",
       " 29.0]"
      ]
     },
     "execution_count": 27,
     "metadata": {},
     "output_type": "execute_result"
    }
   ],
   "source": [
    "numbers = []\n",
    "numbers = [float(x) for x in range(30)]\n",
    "numbers"
   ]
  },
  {
   "cell_type": "code",
   "execution_count": 28,
   "metadata": {},
   "outputs": [
    {
     "data": {
      "text/plain": [
       "['H', 'E', 'L', 'L', 'O', ' ', 'W', 'O', 'R', 'L', 'D']"
      ]
     },
     "execution_count": 28,
     "metadata": {},
     "output_type": "execute_result"
    }
   ],
   "source": [
    "numbers = [x for x in 'HELLO WORLD']\n",
    "numbers"
   ]
  },
  {
   "cell_type": "code",
   "execution_count": 29,
   "metadata": {},
   "outputs": [
    {
     "data": {
      "text/plain": [
       "{' ', 'D', 'E', 'H', 'L', 'O', 'R', 'W'}"
      ]
     },
     "execution_count": 29,
     "metadata": {},
     "output_type": "execute_result"
    }
   ],
   "source": [
    "numbers = {x for x in 'HELLO WORLD'}\n",
    "numbers"
   ]
  },
  {
   "cell_type": "code",
   "execution_count": 30,
   "metadata": {},
   "outputs": [
    {
     "name": "stdout",
     "output_type": "stream",
     "text": [
      "[2, 4, 6, 8, 10]\n"
     ]
    }
   ],
   "source": [
    "numbers = [1, 2, 3, 4, 5, 6, 7, 8, 9, 10]\n",
    "even_numbers = [num for num in numbers if num%2==0]# <-- Use list comprehension here\n",
    "\n",
    "print(even_numbers)  # Expected Output: [2, 4, 6, 8, 10]"
   ]
  },
  {
   "cell_type": "code",
   "execution_count": 32,
   "metadata": {},
   "outputs": [
    {
     "name": "stdout",
     "output_type": "stream",
     "text": [
      "[1, 4, 9, 16, 25]\n"
     ]
    }
   ],
   "source": [
    "numbers = [1, 2, 3, 4, 5]\n",
    "squared_numbers = [num*num for num in numbers]# <-- Use list comprehension here\n",
    "\n",
    "print(squared_numbers)  # Expected Output: [1, 4, 9, 16, 25]"
   ]
  },
  {
   "cell_type": "code",
   "execution_count": 33,
   "metadata": {},
   "outputs": [
    {
     "name": "stdout",
     "output_type": "stream",
     "text": [
      "['banana', 'cherry']\n"
     ]
    }
   ],
   "source": [
    "words = [\"apple\", \"banana\", \"cherry\", \"date\", \"fig\", \"grape\"]\n",
    "long_words = [word for word in words if len(word)>5]# <-- Use list comprehension here\n",
    "\n",
    "print(long_words)  # Expected Output: ['banana', 'cherry']"
   ]
  },
  {
   "cell_type": "code",
   "execution_count": 37,
   "metadata": {},
   "outputs": [
    {
     "name": "stdout",
     "output_type": "stream",
     "text": [
      "['HELLO', 'WORLD', 'PYTHON', 'ROCKS']\n"
     ]
    }
   ],
   "source": [
    "\n",
    "words = [\"hello\", \"world\", \"python\", \"rocks\"]\n",
    "uppercase_words =[word.upper() for word in words]# <-- Use list comprehension here\n",
    "\n",
    "print(uppercase_words)  # Expected Output: ['HELLO', 'WORLD', 'PYTHON', 'ROCKS']"
   ]
  },
  {
   "cell_type": "code",
   "execution_count": 38,
   "metadata": {},
   "outputs": [
    {
     "name": "stdout",
     "output_type": "stream",
     "text": [
      "[3, 6, 9, 12, 15, 18]\n"
     ]
    }
   ],
   "source": [
    "numbers = list(range(1, 21))  # Numbers from 1 to 20\n",
    "divisible_by_3 = [num for num in numbers if num%3==0]# <-- Use list comprehension here\n",
    "\n",
    "print(divisible_by_3)  # Expected Output: [3, 6, 9, 12, 15, 18]"
   ]
  },
  {
   "cell_type": "code",
   "execution_count": 42,
   "metadata": {},
   "outputs": [
    {
     "name": "stdout",
     "output_type": "stream",
     "text": [
      "[[1, 2, 3, 4, 5, 6, 7, 8, 9, 10], [2, 4, 6, 8, 10, 12, 14, 16, 18, 20], [3, 6, 9, 12, 15, 18, 21, 24, 27, 30], [4, 8, 12, 16, 20, 24, 28, 32, 36, 40], [5, 10, 15, 20, 25, 30, 35, 40, 45, 50], [6, 12, 18, 24, 30, 36, 42, 48, 54, 60], [7, 14, 21, 28, 35, 42, 49, 56, 63, 70], [8, 16, 24, 32, 40, 48, 56, 64, 72, 80], [9, 18, 27, 36, 45, 54, 63, 72, 81, 90], [10, 20, 30, 40, 50, 60, 70, 80, 90, 100]]\n"
     ]
    }
   ],
   "source": [
    "multiplication_table = []\n",
    "for i in range(1,11):\n",
    "  row =[]\n",
    "  for j in range(1,11):\n",
    "    row.append(i*j)\n",
    "  multiplication_table.append(row)\n",
    "\n",
    "\n",
    "print(multiplication_table)  \n",
    "# Expected Output: \n",
    "# [\n",
    "#  [1, 2, 3, ..., 10],\n",
    "#  [2, 4, 6, ..., 20],\n",
    "#  [3, 6, 9, ..., 30],\n",
    "#  ...\n",
    "#  [10, 20, 30, ..., 100]\n",
    "# ]"
   ]
  },
  {
   "cell_type": "code",
   "execution_count": 43,
   "metadata": {},
   "outputs": [
    {
     "name": "stdout",
     "output_type": "stream",
     "text": [
      "[3, 4, 5]\n"
     ]
    }
   ],
   "source": [
    "list1 = [1, 2, 3, 4, 5]\n",
    "list2 = [3, 4, 5, 6, 7]\n",
    "common_elements = [num for num in list1 if num in list2]\n",
    "\n",
    "print(common_elements)  # Expected Output: [3, 4, 5]"
   ]
  },
  {
   "cell_type": "code",
   "execution_count": 46,
   "metadata": {},
   "outputs": [
    {
     "name": "stdout",
     "output_type": "stream",
     "text": [
      "[0, 3, 0, 8, 0, 0, 7]\n"
     ]
    }
   ],
   "source": [
    "numbers = [-5, 3, -1, 8, -2, 0, 7]\n",
    "modified_list = []# <-- Use list comprehension here\n",
    "for i in range(len(numbers)):\n",
    "  if numbers[i]< 0:\n",
    "    numbers[i] = 0\n",
    "  modified_list.append(numbers[i])\n",
    "print(modified_list)  # Expected Output: [0, 3, 0, 8, 0, 0, 7]"
   ]
  },
  {
   "cell_type": "code",
   "execution_count": 47,
   "metadata": {},
   "outputs": [
    {
     "name": "stdout",
     "output_type": "stream",
     "text": [
      "[0, 3, 0, 8, 0, 0, 7]\n"
     ]
    }
   ],
   "source": [
    "numbers = [-5, 3, -1, 8, -2, 0, 7]\n",
    "mod_list = [0 if num < 0 else num for num in numbers]\n",
    "print(mod_list)  # Output: [0, 3, 0, 8, 0, 0, 7]"
   ]
  },
  {
   "cell_type": "code",
   "execution_count": 50,
   "metadata": {},
   "outputs": [
    {
     "name": "stdout",
     "output_type": "stream",
     "text": [
      "[2, 2, 6, 4, 10, 6, 14]\n"
     ]
    }
   ],
   "source": [
    "numbers = [1,2,3,4,5,6,7]\n",
    "mod_list = [num*2 if num%2!=0 else num for num in numbers]\n",
    "print(mod_list)"
   ]
  },
  {
   "cell_type": "code",
   "execution_count": 52,
   "metadata": {},
   "outputs": [
    {
     "name": "stdout",
     "output_type": "stream",
     "text": [
      "['olleh', 'dlrow', 'nohtyp']\n"
     ]
    }
   ],
   "source": [
    "words = [\"hello\", \"world\", \"python\"]\n",
    "reversed_words = [word[::-1] for word in words]\n",
    "\n",
    "print(reversed_words)  # Expected Output: ['olleh', 'dlrow', 'nohtyp']"
   ]
  },
  {
   "cell_type": "code",
   "execution_count": 54,
   "metadata": {},
   "outputs": [],
   "source": [
    "job_roles = [\n",
    "    {'role': 'Data Analyst', 'skills': ['Python', 'SQL', 'Excel']},\n",
    "    {'role': 'Data Scientist', 'skills': ['Python', 'R', 'Machine Learning', 'Deep Learning']},\n",
    "    {'role': 'Machine Learning Engineer', 'skills': ['Python', 'TensorFlow', 'PyTorch', 'Scikit-Learn']},\n",
    "    {'role': 'Data Engineer', 'skills': ['Python', 'Apache Spark', 'Hadoop', 'SQL']},\n",
    "    {'role': 'Business Intelligence Analyst', 'skills': ['Python', 'SQL', 'Tableau', 'Power BI', 'Excel']},\n",
    "    {'role': 'Quantitative Analyst', 'skills': ['R', 'Python', 'MATLAB', 'Statistics']},\n",
    "    {'role': 'Operations Analyst', 'skills': ['Python', 'SQL', 'Data Visualization', 'Process Improvement']},\n",
    "    {'role': 'Database Administrator', 'skills': ['SQL', 'Oracle', 'MySQL', 'Database Management']},\n",
    "    {'role': 'AI Engineer', 'skills': ['Python', 'TensorFlow', 'PyTorch', 'Computer Vision']},\n",
    "    {'role': 'Statistician', 'skills': ['R', 'SAS', 'Python', 'Statistical Modeling']}\n",
    "]\n",
    "# My skills\n",
    "my_skills = ['Python', 'SQL', 'Excel']"
   ]
  },
  {
   "cell_type": "code",
   "execution_count": 68,
   "metadata": {},
   "outputs": [
    {
     "data": {
      "text/plain": [
       "['Data Analyst', 'Business Intelligence Analyst']"
      ]
     },
     "execution_count": 68,
     "metadata": {},
     "output_type": "execute_result"
    }
   ],
   "source": [
    "qualified_roles = []\n",
    "for job in job_roles:\n",
    "  qualified = True\n",
    "  for skill in my_skills:\n",
    "    if skill not in job['skills']:\n",
    "      qualified = False\n",
    "      break\n",
    "  if qualified:\n",
    "    qualified_roles.append(job['role'])\n",
    "qualified_roles"
   ]
  },
  {
   "cell_type": "code",
   "execution_count": 71,
   "metadata": {},
   "outputs": [
    {
     "data": {
      "text/plain": [
       "['Data Analyst', 'Business Intelligence Analyst']"
      ]
     },
     "execution_count": 71,
     "metadata": {},
     "output_type": "execute_result"
    }
   ],
   "source": [
    "qualified_roles=[]\n",
    "for job in job_roles:\n",
    "  if all(skill in job['skills'] for skill in my_skills):\n",
    "    qualified_roles.append(job['role'])\n",
    "qualified_roles"
   ]
  },
  {
   "cell_type": "code",
   "execution_count": 73,
   "metadata": {},
   "outputs": [
    {
     "data": {
      "text/plain": [
       "['Data Analyst', 'Business Intelligence Analyst']"
      ]
     },
     "execution_count": 73,
     "metadata": {},
     "output_type": "execute_result"
    }
   ],
   "source": [
    "qualified_roles = [job['role'] for job in job_roles if all(skill in job['skills'] for skill in my_skills)]\n",
    "qualified_roles"
   ]
  },
  {
   "cell_type": "code",
   "execution_count": 74,
   "metadata": {},
   "outputs": [
    {
     "data": {
      "text/plain": [
       "134"
      ]
     },
     "execution_count": 74,
     "metadata": {},
     "output_type": "execute_result"
    }
   ],
   "source": [
    "data_salaries = [ 134,13423,4265234,64325]\n",
    "min(data_salaries)"
   ]
  },
  {
   "cell_type": "code",
   "execution_count": 97,
   "metadata": {},
   "outputs": [],
   "source": [
    "\n",
    "def calculate_salary(base, bonus = .2):\n",
    "  total_salary = base*(1+bonus)\n",
    "  return total_salary\n",
    "\n",
    "  "
   ]
  },
  {
   "cell_type": "code",
   "execution_count": 98,
   "metadata": {},
   "outputs": [
    {
     "data": {
      "text/plain": [
       "1200.0"
      ]
     },
     "execution_count": 98,
     "metadata": {},
     "output_type": "execute_result"
    }
   ],
   "source": [
    "calculate_salary(1000)"
   ]
  },
  {
   "cell_type": "code",
   "execution_count": 100,
   "metadata": {},
   "outputs": [
    {
     "name": "stdout",
     "output_type": "stream",
     "text": [
      "{'median: ', 40, 'mode', 28.88888888888889, 'mean:', 30}\n"
     ]
    }
   ],
   "source": [
    "import statistics\n",
    "def calculate_statistics(numbers):\n",
    "  mean = statistics.mean(numbers)\n",
    "  median = statistics.median(numbers)\n",
    "  mode = statistics.mode(numbers)\n",
    "  return {\"mean:\", mean, \"median: \", median, \"mode\", mode}\n",
    "\n",
    "data = [10, 20, 30, 40, 50, 20, 10, 40, 40]\n",
    "print(calculate_statistics(data))\n",
    "# Expected Output: {\"mean\": X, \"median\": Y, \"mode\": Z}"
   ]
  },
  {
   "cell_type": "code",
   "execution_count": 109,
   "metadata": {},
   "outputs": [
    {
     "name": "stdout",
     "output_type": "stream",
     "text": [
      "4\n"
     ]
    }
   ],
   "source": [
    "def count_unique(values):\n",
    "    my_set = []\n",
    "    for val in values:\n",
    "        my_set.append(val)\n",
    "    return len(set(my_set))\n",
    "\n",
    "data = [\"apple\", \"banana\", \"apple\", \"orange\", \"banana\", \"grape\"]\n",
    "print(count_unique(data))  # Expected Output: 3"
   ]
  },
  {
   "cell_type": "code",
   "execution_count": 114,
   "metadata": {},
   "outputs": [
    {
     "name": "stdout",
     "output_type": "stream",
     "text": [
      "dog\n"
     ]
    }
   ],
   "source": [
    "def most_frequent(values):\n",
    "    my_dict = {}\n",
    "    for i in values:\n",
    "        if i in my_dict:\n",
    "            my_dict[i] +=1\n",
    "             \n",
    "        else:\n",
    "            my_dict[i] = 1\n",
    "    mode = max(my_dict, key = my_dict.get)\n",
    "    return mode\n",
    "\n",
    "data = [\"cat\", \"dog\", \"dog\", \"rabbit\", \"dog\", \"cat\", \"rabbit\"]\n",
    "print(most_frequent(data))  # Expected Output: \"dog\""
   ]
  },
  {
   "cell_type": "code",
   "execution_count": 112,
   "metadata": {},
   "outputs": [
    {
     "name": "stdout",
     "output_type": "stream",
     "text": [
      "dog\n"
     ]
    }
   ],
   "source": [
    "def most_frequent(values):\n",
    "    \n",
    "    return statistics.mode(values)\n",
    "\n",
    "data = [\"cat\", \"dog\", \"dog\", \"rabbit\", \"dog\", \"cat\", \"rabbit\"]\n",
    "print(most_frequent(data))  # Expected Output: \"dog\""
   ]
  },
  {
   "cell_type": "code",
   "execution_count": 116,
   "metadata": {},
   "outputs": [],
   "source": [
    "mul_two = lambda x: x*2"
   ]
  },
  {
   "cell_type": "code",
   "execution_count": 117,
   "metadata": {},
   "outputs": [
    {
     "data": {
      "text/plain": [
       "6"
      ]
     },
     "execution_count": 117,
     "metadata": {},
     "output_type": "execute_result"
    }
   ],
   "source": [
    "mul_two(3)"
   ]
  },
  {
   "cell_type": "code",
   "execution_count": 120,
   "metadata": {},
   "outputs": [
    {
     "data": {
      "text/plain": [
       "[11000.0, 22000.0, 165000.0, 33000.0]"
      ]
     },
     "execution_count": 120,
     "metadata": {},
     "output_type": "execute_result"
    }
   ],
   "source": [
    "salary_list = [10000, 20000, 150000, 30000]\n",
    "def calculate_salary(base, bonus = .1):\n",
    "  return base * (1+bonus)\n",
    "total_salary_list = [calculate_salary(salary) for salary in salary_list]\n",
    "total_salary_list"
   ]
  },
  {
   "cell_type": "code",
   "execution_count": 122,
   "metadata": {},
   "outputs": [
    {
     "data": {
      "text/plain": [
       "[11000.0, 22000.0, 165000.0, 33000.0]"
      ]
     },
     "execution_count": 122,
     "metadata": {},
     "output_type": "execute_result"
    }
   ],
   "source": [
    "salary_list = [10000, 20000, 150000, 30000]\n",
    "# def calculate_salary(base, bonus = .1):\n",
    "#   return base * (1+bonus)\n",
    "total_salary_list = [(lambda x: x*1.1)(salary) for salary in salary_list]\n",
    "total_salary_list"
   ]
  },
  {
   "cell_type": "code",
   "execution_count": 124,
   "metadata": {},
   "outputs": [
    {
     "name": "stdout",
     "output_type": "stream",
     "text": [
      "Data Scientist\n",
      "Data Analyst\n",
      "Machine Learning Engineer\n",
      "Business Intelligence Analyst\n",
      "AI Research Scientist\n"
     ]
    }
   ],
   "source": [
    "job_listings = [\n",
    "    {\n",
    "        \"job_title\": \"Data Scientist\",\n",
    "        \"job_skills\": [\"Python\", \"Machine Learning\", \"SQL\", \"Data Visualization\"],\n",
    "        \"remote\": True\n",
    "    },\n",
    "    {\n",
    "        \"job_title\": \"Data Analyst\",\n",
    "        \"job_skills\": [\"Excel\", \"SQL\", \"Tableau\", \"Statistics\"],\n",
    "        \"remote\": False\n",
    "    },\n",
    "    {\n",
    "        \"job_title\": \"Machine Learning Engineer\",\n",
    "        \"job_skills\": [\"Python\", \"Deep Learning\", \"TensorFlow\", \"MLOps\"],\n",
    "        \"remote\": True\n",
    "    },\n",
    "    {\n",
    "        \"job_title\": \"Business Intelligence Analyst\",\n",
    "        \"job_skills\": [\"Power BI\", \"SQL\", \"Data Warehousing\", \"ETL\"],\n",
    "        \"remote\": False\n",
    "    },\n",
    "    {\n",
    "        \"job_title\": \"AI Research Scientist\",\n",
    "        \"job_skills\": [\"Python\", \"NLP\", \"Deep Learning\", \"Mathematical Modeling\"],\n",
    "        \"remote\": True\n",
    "    }\n",
    "]\n",
    "\n",
    "# Print job listings\n",
    "for job in job_listings:\n",
    "    print(job['job_title'])"
   ]
  },
  {
   "cell_type": "code",
   "execution_count": 127,
   "metadata": {},
   "outputs": [
    {
     "data": {
      "text/plain": [
       "[{'job_title': 'Data Scientist',\n",
       "  'job_skills': ['Python', 'Machine Learning', 'SQL', 'Data Visualization'],\n",
       "  'remote': True},\n",
       " {'job_title': 'Machine Learning Engineer',\n",
       "  'job_skills': ['Python', 'Deep Learning', 'TensorFlow', 'MLOps'],\n",
       "  'remote': True},\n",
       " {'job_title': 'AI Research Scientist',\n",
       "  'job_skills': ['Python', 'NLP', 'Deep Learning', 'Mathematical Modeling'],\n",
       "  'remote': True}]"
      ]
     },
     "execution_count": 127,
     "metadata": {},
     "output_type": "execute_result"
    }
   ],
   "source": [
    "list(filter(lambda job: job['remote']and 'Python' in job['job_skills'], job_listings))"
   ]
  },
  {
   "cell_type": "code",
   "execution_count": 7,
   "metadata": {},
   "outputs": [
    {
     "name": "stdout",
     "output_type": "stream",
     "text": [
      "Requirement already satisfied: datasets in /opt/homebrew/anaconda3/lib/python3.12/site-packages (3.3.1)\n",
      "Requirement already satisfied: filelock in /opt/homebrew/anaconda3/lib/python3.12/site-packages (from datasets) (3.13.1)\n",
      "Requirement already satisfied: numpy>=1.17 in /opt/homebrew/anaconda3/lib/python3.12/site-packages (from datasets) (1.26.4)\n",
      "Requirement already satisfied: pyarrow>=15.0.0 in /opt/homebrew/anaconda3/lib/python3.12/site-packages (from datasets) (16.1.0)\n",
      "Requirement already satisfied: dill<0.3.9,>=0.3.0 in /opt/homebrew/anaconda3/lib/python3.12/site-packages (from datasets) (0.3.8)\n",
      "Requirement already satisfied: pandas in /opt/homebrew/anaconda3/lib/python3.12/site-packages (from datasets) (2.2.2)\n",
      "Requirement already satisfied: requests>=2.32.2 in /opt/homebrew/anaconda3/lib/python3.12/site-packages (from datasets) (2.32.3)\n",
      "Requirement already satisfied: tqdm>=4.66.3 in /opt/homebrew/anaconda3/lib/python3.12/site-packages (from datasets) (4.66.5)\n",
      "Requirement already satisfied: xxhash in /opt/homebrew/anaconda3/lib/python3.12/site-packages (from datasets) (3.5.0)\n",
      "Requirement already satisfied: multiprocess<0.70.17 in /opt/homebrew/anaconda3/lib/python3.12/site-packages (from datasets) (0.70.16)\n",
      "Requirement already satisfied: fsspec<=2024.12.0,>=2023.1.0 in /opt/homebrew/anaconda3/lib/python3.12/site-packages (from fsspec[http]<=2024.12.0,>=2023.1.0->datasets) (2024.6.1)\n",
      "Requirement already satisfied: aiohttp in /opt/homebrew/anaconda3/lib/python3.12/site-packages (from datasets) (3.10.5)\n",
      "Requirement already satisfied: huggingface-hub>=0.24.0 in /opt/homebrew/anaconda3/lib/python3.12/site-packages (from datasets) (0.28.1)\n",
      "Requirement already satisfied: packaging in /opt/homebrew/anaconda3/lib/python3.12/site-packages (from datasets) (24.1)\n",
      "Requirement already satisfied: pyyaml>=5.1 in /opt/homebrew/anaconda3/lib/python3.12/site-packages (from datasets) (6.0.1)\n",
      "Requirement already satisfied: aiohappyeyeballs>=2.3.0 in /opt/homebrew/anaconda3/lib/python3.12/site-packages (from aiohttp->datasets) (2.4.0)\n",
      "Requirement already satisfied: aiosignal>=1.1.2 in /opt/homebrew/anaconda3/lib/python3.12/site-packages (from aiohttp->datasets) (1.2.0)\n",
      "Requirement already satisfied: attrs>=17.3.0 in /opt/homebrew/anaconda3/lib/python3.12/site-packages (from aiohttp->datasets) (23.1.0)\n",
      "Requirement already satisfied: frozenlist>=1.1.1 in /opt/homebrew/anaconda3/lib/python3.12/site-packages (from aiohttp->datasets) (1.4.0)\n",
      "Requirement already satisfied: multidict<7.0,>=4.5 in /opt/homebrew/anaconda3/lib/python3.12/site-packages (from aiohttp->datasets) (6.0.4)\n",
      "Requirement already satisfied: yarl<2.0,>=1.0 in /opt/homebrew/anaconda3/lib/python3.12/site-packages (from aiohttp->datasets) (1.11.0)\n",
      "Requirement already satisfied: typing-extensions>=3.7.4.3 in /opt/homebrew/anaconda3/lib/python3.12/site-packages (from huggingface-hub>=0.24.0->datasets) (4.11.0)\n",
      "Requirement already satisfied: charset-normalizer<4,>=2 in /opt/homebrew/anaconda3/lib/python3.12/site-packages (from requests>=2.32.2->datasets) (3.3.2)\n",
      "Requirement already satisfied: idna<4,>=2.5 in /opt/homebrew/anaconda3/lib/python3.12/site-packages (from requests>=2.32.2->datasets) (3.7)\n",
      "Requirement already satisfied: urllib3<3,>=1.21.1 in /opt/homebrew/anaconda3/lib/python3.12/site-packages (from requests>=2.32.2->datasets) (2.2.3)\n",
      "Requirement already satisfied: certifi>=2017.4.17 in /opt/homebrew/anaconda3/lib/python3.12/site-packages (from requests>=2.32.2->datasets) (2024.8.30)\n",
      "Requirement already satisfied: python-dateutil>=2.8.2 in /opt/homebrew/anaconda3/lib/python3.12/site-packages (from pandas->datasets) (2.9.0.post0)\n",
      "Requirement already satisfied: pytz>=2020.1 in /opt/homebrew/anaconda3/lib/python3.12/site-packages (from pandas->datasets) (2024.1)\n",
      "Requirement already satisfied: tzdata>=2022.7 in /opt/homebrew/anaconda3/lib/python3.12/site-packages (from pandas->datasets) (2023.3)\n",
      "Requirement already satisfied: six>=1.5 in /opt/homebrew/anaconda3/lib/python3.12/site-packages (from python-dateutil>=2.8.2->pandas->datasets) (1.16.0)\n",
      "Note: you may need to restart the kernel to use updated packages.\n"
     ]
    }
   ],
   "source": [
    "pip install datasets"
   ]
  },
  {
   "cell_type": "code",
   "execution_count": null,
   "metadata": {},
   "outputs": [
    {
     "ename": "",
     "evalue": "",
     "output_type": "error",
     "traceback": [
      "\u001b[1;31mRunning cells with 'Python 3.13.1' requires the ipykernel package.\n",
      "\u001b[1;31mRun the following command to install 'ipykernel' into the Python environment. \n",
      "\u001b[1;31mCommand: '/opt/homebrew/bin/python3 -m pip install ipykernel -U --user --force-reinstall'"
     ]
    }
   ],
   "source": [
    "import pandas as pd\n",
    "from datasets import load_dataset\n",
    "\n",
    "dataset = load_dataset('lukebarousse/data_jobs')\n",
    "df = dataset['train'].to_pandas()\n",
    "\n",
    "df['job_posted_date'] = pd.to_datetime(df[['job_posted_date']])"
   ]
  },
  {
   "cell_type": "code",
   "execution_count": null,
   "metadata": {},
   "outputs": [],
   "source": []
  }
 ],
 "metadata": {
  "kernelspec": {
   "display_name": "Python 3",
   "language": "python",
   "name": "python3"
  },
  "language_info": {
   "codemirror_mode": {
    "name": "ipython",
    "version": 3
   },
   "file_extension": ".py",
   "mimetype": "text/x-python",
   "name": "python",
   "nbconvert_exporter": "python",
   "pygments_lexer": "ipython3",
   "version": "3.13.1"
  }
 },
 "nbformat": 4,
 "nbformat_minor": 2
}
